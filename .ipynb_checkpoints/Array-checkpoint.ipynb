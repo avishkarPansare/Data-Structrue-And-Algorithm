{
 "cells": [
  {
   "cell_type": "markdown",
   "id": "82b48572",
   "metadata": {},
   "source": [
    "# Reverse the array"
   ]
  },
  {
   "cell_type": "code",
   "execution_count": 3,
   "id": "2b539d5e",
   "metadata": {},
   "outputs": [],
   "source": [
    "def reverseList(A):\n",
    "    start= 0\n",
    "    end = len(A)-1\n",
    "    while start < end:\n",
    "        A[start], A[end] = A[end], A[start]\n",
    "        start += 1\n",
    "        end -= 1"
   ]
  },
  {
   "cell_type": "code",
   "execution_count": 5,
   "id": "c6b6156d",
   "metadata": {},
   "outputs": [
    {
     "name": "stdout",
     "output_type": "stream",
     "text": [
      "[1, 2, 3, 5, 6, 7, 8, 9, 66]\n",
      "[66, 9, 8, 7, 6, 5, 3, 2, 1]\n"
     ]
    }
   ],
   "source": [
    "A = [1,2,3,5,6,7,8,9,66]\n",
    "print(A)\n",
    "reverseList(A)\n",
    "print(A)"
   ]
  },
  {
   "cell_type": "markdown",
   "id": "5e8044f0",
   "metadata": {},
   "source": [
    "# Find the maximum and minimum element in an array"
   ]
  },
  {
   "cell_type": "code",
   "execution_count": 9,
   "id": "c4dbdb37",
   "metadata": {},
   "outputs": [],
   "source": [
    "class pair:\n",
    "    def __init__(self):\n",
    "        self.min = 0\n",
    "        self.max = 0\n",
    " \n",
    "def getMinMax(arr: list, n: int) -> pair:\n",
    "    minmax = pair()\n",
    " \n",
    "    # If there is only one element then return it as min and max both\n",
    "    if n == 1:\n",
    "        minmax.max = arr[0]\n",
    "        minmax.min = arr[0]\n",
    "        return minmax\n",
    " \n",
    "    # If there are more than one elements, then initialize min\n",
    "    # and max\n",
    "    if arr[0] > arr[1]:\n",
    "        minmax.max = arr[0]\n",
    "        minmax.min = arr[1]\n",
    "    else:\n",
    "        minmax.max = arr[1]\n",
    "        minmax.min = arr[0]\n",
    " \n",
    "    for i in range(2, n):\n",
    "        if arr[i] > minmax.max:\n",
    "            minmax.max = arr[i]\n",
    "        elif arr[i] < minmax.min:\n",
    "            minmax.min = arr[i]\n",
    " \n",
    "    return minmax"
   ]
  },
  {
   "cell_type": "code",
   "execution_count": 11,
   "id": "6f289bd6",
   "metadata": {},
   "outputs": [
    {
     "name": "stdout",
     "output_type": "stream",
     "text": [
      "Minimum element is -3000\n",
      "Maximum element is 1000\n"
     ]
    }
   ],
   "source": [
    "arr = [1000, 11, 445, 1, 330, -3000]\n",
    "arr_size = len(arr)\n",
    "\n",
    "minmax = getMinMax(arr, arr_size)\n",
    "print(\"Minimum element is\", minmax.min)\n",
    "print(\"Maximum element is\", minmax.max)"
   ]
  },
  {
   "cell_type": "markdown",
   "id": "0dbfdb3c",
   "metadata": {},
   "source": [
    "# Find the \"Kth\" max and min element of an array"
   ]
  },
  {
   "cell_type": "code",
   "execution_count": 27,
   "id": "6e4461bd",
   "metadata": {},
   "outputs": [],
   "source": [
    "def KthMinMax(Lst,n,K):\n",
    "#         for i in range(0,n-1):  \n",
    "#             for j in range(n-1):  \n",
    "#                 if(Lst[j]>Lst[j+1]):  \n",
    "#                      Lst[j] , Lst[j+1] = Lst[j+1] , Lst[j]\n",
    "        Lst.sort()\n",
    "        if K > n :\n",
    "            print(\"The value is K is out range\")\n",
    "        else :\n",
    "            print(\"The min value of :\",Lst[K-1])\n",
    "            print(\"The max value of :\",Lst[-K])\n",
    "\n"
   ]
  },
  {
   "cell_type": "code",
   "execution_count": 28,
   "id": "ea0dd6ca",
   "metadata": {},
   "outputs": [
    {
     "name": "stdout",
     "output_type": "stream",
     "text": [
      "[3, 1, 2, 6, 88, 3, 1, 2]\n",
      "The min value of : 1\n",
      "The max value of : 6\n",
      "[1, 1, 2, 2, 3, 3, 6, 88]\n"
     ]
    }
   ],
   "source": [
    "Lst= [3,1,2,6,88,3,1,2]\n",
    "n = len(Lst)\n",
    "print(Lst)\n",
    "K = 2\n",
    "KthMinMax(Lst,n,K)\n",
    "print(Lst)"
   ]
  },
  {
   "cell_type": "markdown",
   "id": "77a98162",
   "metadata": {},
   "source": [
    "# Given an array which consists of only 0, 1 and 2. Sort the array without using any sorting algo"
   ]
  },
  {
   "cell_type": "code",
   "execution_count": 25,
   "id": "5a8a211f",
   "metadata": {},
   "outputs": [],
   "source": [
    "def sort012( a, arr_size):\n",
    "    lo = 0\n",
    "    hi = arr_size - 1\n",
    "    mid = 0\n",
    "    while mid <= hi:\n",
    "        if a[mid] == 0:\n",
    "            a[lo], a[mid] = a[mid], a[lo]\n",
    "            lo = lo + 1\n",
    "            mid = mid + 1\n",
    "        elif a[mid] == 1:\n",
    "            mid = mid + 1\n",
    "        else:\n",
    "            a[mid], a[hi] = a[hi], a[mid] \n",
    "            hi = hi - 1\n",
    "    return a\n",
    "      \n",
    "# Function to print array\n",
    "def printArray( a):\n",
    "    for k in a:\n",
    "        print(k,end=' ')"
   ]
  },
  {
   "cell_type": "code",
   "execution_count": 26,
   "id": "faa4c6b0",
   "metadata": {},
   "outputs": [
    {
     "name": "stdout",
     "output_type": "stream",
     "text": [
      "0 0 0 0 0 1 1 1 1 1 2 2 "
     ]
    }
   ],
   "source": [
    "arr = [0, 1, 1, 0, 1, 2, 1, 2, 0, 0, 0, 1]\n",
    "arr_size = len(arr)\n",
    "arr = sort012( arr, arr_size)\n",
    "printArray(arr)"
   ]
  },
  {
   "cell_type": "markdown",
   "id": "d59b002c",
   "metadata": {},
   "source": [
    "# Move all the negative elements to one side of the array"
   ]
  },
  {
   "cell_type": "code",
   "execution_count": 30,
   "id": "1364ce7c",
   "metadata": {},
   "outputs": [],
   "source": [
    "def moveNegative(Lst):\n",
    "    Lst.sort()"
   ]
  },
  {
   "cell_type": "code",
   "execution_count": 31,
   "id": "e2802906",
   "metadata": {},
   "outputs": [
    {
     "name": "stdout",
     "output_type": "stream",
     "text": [
      "[-7, -3, -1, 2, 4, 5, 6, 8, 9]\n"
     ]
    }
   ],
   "source": [
    "arr = [ -1, 2, -3, 4, 5, 6, -7, 8, 9 ]\n",
    "moveNegative(arr)\n",
    "print(arr)"
   ]
  },
  {
   "cell_type": "markdown",
   "id": "c4c7a596",
   "metadata": {},
   "source": [
    "# Find the Union and Intersection of the two sorted arrays."
   ]
  },
  {
   "cell_type": "code",
   "execution_count": 32,
   "id": "f2821714",
   "metadata": {},
   "outputs": [],
   "source": [
    "def printUnion(a , n,  b , m):\n",
    "    mp = {}\n",
    "     \n",
    "    # Inserting array elements in mp\n",
    "    for i in range(n):\n",
    "        mp[a[i]] = i\n",
    " \n",
    "    for i in range(m):\n",
    "        mp[b[i]] = i\n",
    "     \n",
    "    print(\"The union set of both arrays is : \");\n",
    "    for key in mp.keys():\n",
    " \n",
    "        print(key,end=\" \")"
   ]
  },
  {
   "cell_type": "code",
   "execution_count": 35,
   "id": "16715ab1",
   "metadata": {},
   "outputs": [
    {
     "name": "stdout",
     "output_type": "stream",
     "text": [
      "The union set of both arrays is : \n",
      "1 2 5 6 3 4 8 9 "
     ]
    }
   ],
   "source": [
    "a = [ 1, 2, 5, 6, 2, 3, 5 ];\n",
    "b = [ 2, 4, 5, 6, 8, 9, 4, 6, 5 ];\n",
    "n11 = len(a)\n",
    "n22 = len(b)    \n",
    "printUnion(a, n11, b, n22)"
   ]
  },
  {
   "cell_type": "code",
   "execution_count": 33,
   "id": "a46b26f0",
   "metadata": {},
   "outputs": [],
   "source": [
    "def getUnion(a, n, b, m):\n",
    "    hs = set()\n",
    "    if(n<m):\n",
    "        min=n\n",
    "    else:\n",
    "        min=m\n",
    "         \n",
    "    for i in range(0, min):\n",
    "        hs.add(a[i])\n",
    "        hs.add(b[i])\n",
    "     \n",
    "    if(n>m):\n",
    "        for i in range(m, n):\n",
    "            hs.add(a[i])\n",
    "    else:\n",
    "        if(n<m):\n",
    "            for i in range(m, n):\n",
    "                hs.add(b[i])\n",
    "             \n",
    "             \n",
    "    print(\"Number of elements after union operation: \",len(hs))\n",
    "    print(\"The union set of both arrays is :\")\n",
    "    for i in hs:\n",
    "        print(i, end=\" \")\n",
    "    print(\"\\n\")"
   ]
  },
  {
   "cell_type": "code",
   "execution_count": 34,
   "id": "9b488dc3",
   "metadata": {},
   "outputs": [
    {
     "name": "stdout",
     "output_type": "stream",
     "text": [
      "Number of elements after union operation:  9\n",
      "The union set of both arrays is :\n",
      "1 2 3 4 5 6 7 8 9 \n",
      "\n"
     ]
    }
   ],
   "source": [
    "a = [1, 2, 5, 6, 2, 3, 5, 7, 3]\n",
    "b = [2, 4, 5, 6, 8, 9, 4, 6, 5, 4]\n",
    "n1 = len(a)\n",
    "n2 = len(b)\n",
    " \n",
    "# Function call\n",
    "getUnion(a, n1, b, n2)"
   ]
  },
  {
   "cell_type": "markdown",
   "id": "b68deb2b",
   "metadata": {},
   "source": [
    "# Write a program to cyclically rotate an array by one."
   ]
  },
  {
   "cell_type": "code",
   "execution_count": 36,
   "id": "929962b6",
   "metadata": {},
   "outputs": [],
   "source": [
    "def rotate(arr, n):\n",
    "    x = arr[n - 1]\n",
    "     \n",
    "    for i in range(n - 1, 0, -1):\n",
    "        arr[i] = arr[i - 1];\n",
    "         \n",
    "    arr[0] = x;"
   ]
  },
  {
   "cell_type": "code",
   "execution_count": 37,
   "id": "846b5793",
   "metadata": {},
   "outputs": [
    {
     "name": "stdout",
     "output_type": "stream",
     "text": [
      "[1, 2, 3, 4, 5]\n",
      "[5, 1, 2, 3, 4]\n"
     ]
    }
   ],
   "source": [
    "arr= [1, 2, 3, 4, 5]\n",
    "print(arr)\n",
    "n = len(arr)\n",
    "rotate(arr, n)\n",
    "print(arr)"
   ]
  },
  {
   "cell_type": "markdown",
   "id": "3bb04375",
   "metadata": {},
   "source": [
    "# find Largest sum contiguous Subarray [V. IMP]"
   ]
  },
  {
   "cell_type": "code",
   "execution_count": 39,
   "id": "6211b7b7",
   "metadata": {},
   "outputs": [
    {
     "name": "stdout",
     "output_type": "stream",
     "text": [
      "Maximum contiguous sum is 7\n"
     ]
    }
   ],
   "source": [
    "def maxSubArraySum(a,size):\n",
    "      \n",
    "    max_so_far =a[0]\n",
    "    curr_max = a[0]\n",
    "      \n",
    "    for i in range(1,size):\n",
    "        curr_max = max(a[i], curr_max + a[i])\n",
    "        max_so_far = max(max_so_far,curr_max)\n",
    "          \n",
    "    return max_so_far\n",
    "  \n",
    "# Driver function to check the above function \n",
    "a = [-2, -3, 4, -1, -2, 1, 5, -3]\n",
    "print(\"Maximum contiguous sum is\" , maxSubArraySum(a,len(a)))\n",
    "  \n",
    "#This code is contributed by _Devesh Agrawal_"
   ]
  },
  {
   "cell_type": "code",
   "execution_count": null,
   "id": "342327e1",
   "metadata": {},
   "outputs": [],
   "source": []
  }
 ],
 "metadata": {
  "kernelspec": {
   "display_name": "Python 3 (ipykernel)",
   "language": "python",
   "name": "python3"
  },
  "language_info": {
   "codemirror_mode": {
    "name": "ipython",
    "version": 3
   },
   "file_extension": ".py",
   "mimetype": "text/x-python",
   "name": "python",
   "nbconvert_exporter": "python",
   "pygments_lexer": "ipython3",
   "version": "3.8.10"
  }
 },
 "nbformat": 4,
 "nbformat_minor": 5
}
